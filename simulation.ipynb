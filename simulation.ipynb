{
 "cells": [
  {
   "cell_type": "code",
   "execution_count": 3,
   "metadata": {},
   "outputs": [
    {
     "name": "stdout",
     "output_type": "stream",
     "text": [
      "Tue Jun 12 07:17:39 2018\n"
     ]
    }
   ],
   "source": [
    "import io\n",
    "from IPython.nbformat import current\n",
    "\n",
    "def execute_notebook(nbfile):\n",
    "    \n",
    "    with io.open(nbfile) as f:\n",
    "        nb = current.read(f, 'json')\n",
    "    \n",
    "    ip = get_ipython()\n",
    "    \n",
    "    for cell in nb.worksheets[0].cells:\n",
    "        if cell.cell_type != 'code':\n",
    "            continue\n",
    "        ip.run_cell(cell.input)\n",
    "        \n",
    "execute_notebook(\"common.ipynb\")"
   ]
  },
  {
   "cell_type": "code",
   "execution_count": 2,
   "metadata": {},
   "outputs": [
    {
     "ename": "TypeError",
     "evalue": "data type \"c1\" not understood",
     "output_type": "error",
     "traceback": [
      "\u001b[1;31m---------------------------------------------------------------------------\u001b[0m",
      "\u001b[1;31mTypeError\u001b[0m                                 Traceback (most recent call last)",
      "\u001b[1;32m<ipython-input-2-31c8cd34bc9b>\u001b[0m in \u001b[0;36m<module>\u001b[1;34m()\u001b[0m\n\u001b[0;32m      8\u001b[0m \u001b[1;33m\u001b[0m\u001b[0m\n\u001b[0;32m      9\u001b[0m \u001b[0mdictionary\u001b[0m \u001b[1;33m=\u001b[0m \u001b[0mdictionary\u001b[0m\u001b[1;33m(\u001b[0m\u001b[1;33m)\u001b[0m\u001b[1;33m\u001b[0m\u001b[0m\n\u001b[1;32m---> 10\u001b[1;33m \u001b[0mspiketimes\u001b[0m \u001b[1;33m=\u001b[0m \u001b[0mdictionary\u001b[0m\u001b[1;33m.\u001b[0m\u001b[0mspikeTimes\u001b[0m\u001b[1;33m(\u001b[0m\u001b[0mdictionaryLongitude\u001b[0m\u001b[1;33m,\u001b[0m \u001b[0mspikeInterval\u001b[0m\u001b[1;33m,\u001b[0m \u001b[0mspikesPerChar\u001b[0m\u001b[1;33m,\u001b[0m \u001b[0mepochs\u001b[0m\u001b[1;33m)\u001b[0m\u001b[1;33m\u001b[0m\u001b[0m\n\u001b[0m\u001b[0;32m     11\u001b[0m \u001b[0mLIK\u001b[0m \u001b[1;33m=\u001b[0m \u001b[0mSpikeGeneratorGroup\u001b[0m\u001b[1;33m(\u001b[0m\u001b[0mfirstLayerSize\u001b[0m\u001b[1;33m,\u001b[0m \u001b[0mspiketimes\u001b[0m\u001b[1;33m)\u001b[0m\u001b[1;33m\u001b[0m\u001b[0m\n\u001b[0;32m     12\u001b[0m \u001b[1;33m\u001b[0m\u001b[0m\n",
      "\u001b[1;32m<ipython-input-1-56aff94a143f>\u001b[0m in \u001b[0;36mspikeTimes\u001b[1;34m(self, dictionaryLongitude, spikeInterval, spikesPerChar, epochs)\u001b[0m\n\u001b[0;32m      2\u001b[0m         \u001b[1;32mdef\u001b[0m \u001b[0mspikeTimes\u001b[0m\u001b[1;33m(\u001b[0m\u001b[0mself\u001b[0m\u001b[1;33m,\u001b[0m \u001b[0mdictionaryLongitude\u001b[0m\u001b[1;33m,\u001b[0m \u001b[0mspikeInterval\u001b[0m\u001b[1;33m,\u001b[0m \u001b[0mspikesPerChar\u001b[0m\u001b[1;33m,\u001b[0m \u001b[0mepochs\u001b[0m\u001b[1;33m)\u001b[0m\u001b[1;33m:\u001b[0m\u001b[1;33m\u001b[0m\u001b[0m\n\u001b[0;32m      3\u001b[0m \u001b[1;33m\u001b[0m\u001b[0m\n\u001b[1;32m----> 4\u001b[1;33m                 \u001b[0mdictionary\u001b[0m \u001b[1;33m=\u001b[0m \u001b[0mzeros\u001b[0m\u001b[1;33m(\u001b[0m\u001b[1;36m26\u001b[0m\u001b[1;33m,\u001b[0m \u001b[0mdtype\u001b[0m\u001b[1;33m=\u001b[0m\u001b[1;34m'c1, (5,3)u1'\u001b[0m\u001b[1;33m)\u001b[0m\u001b[1;33m\u001b[0m\u001b[0m\n\u001b[0m\u001b[0;32m      5\u001b[0m \t\tdictionary[:] =[('A',[[1, 0, 1],[0, 1, 0],[0, 0, 0],[0, 1, 0],[0, 1, 0]]),\n\u001b[0;32m      6\u001b[0m                                             \u001b[1;33m(\u001b[0m\u001b[1;34m'B'\u001b[0m\u001b[1;33m,\u001b[0m\u001b[1;33m[\u001b[0m\u001b[1;33m[\u001b[0m\u001b[1;36m0\u001b[0m\u001b[1;33m,\u001b[0m \u001b[1;36m0\u001b[0m\u001b[1;33m,\u001b[0m \u001b[1;36m1\u001b[0m\u001b[1;33m]\u001b[0m\u001b[1;33m,\u001b[0m\u001b[1;33m[\u001b[0m\u001b[1;36m0\u001b[0m\u001b[1;33m,\u001b[0m \u001b[1;36m1\u001b[0m\u001b[1;33m,\u001b[0m \u001b[1;36m0\u001b[0m\u001b[1;33m]\u001b[0m\u001b[1;33m,\u001b[0m\u001b[1;33m[\u001b[0m\u001b[1;36m0\u001b[0m\u001b[1;33m,\u001b[0m \u001b[1;36m0\u001b[0m\u001b[1;33m,\u001b[0m \u001b[1;36m1\u001b[0m\u001b[1;33m]\u001b[0m\u001b[1;33m,\u001b[0m\u001b[1;33m[\u001b[0m\u001b[1;36m0\u001b[0m\u001b[1;33m,\u001b[0m \u001b[1;36m1\u001b[0m\u001b[1;33m,\u001b[0m \u001b[1;36m0\u001b[0m\u001b[1;33m]\u001b[0m\u001b[1;33m,\u001b[0m\u001b[1;33m[\u001b[0m\u001b[1;36m0\u001b[0m\u001b[1;33m,\u001b[0m \u001b[1;36m0\u001b[0m\u001b[1;33m,\u001b[0m \u001b[1;36m1\u001b[0m\u001b[1;33m]\u001b[0m\u001b[1;33m]\u001b[0m\u001b[1;33m)\u001b[0m\u001b[1;33m,\u001b[0m\u001b[1;33m\u001b[0m\u001b[0m\n",
      "\u001b[1;31mTypeError\u001b[0m: data type \"c1\" not understood"
     ]
    }
   ],
   "source": [
    "epochs = 100 \n",
    "spikeMiliseconds = 100\n",
    "spikeInterval = spikeMiliseconds * ms\n",
    "spikeIntervalUnformatted = spikeMiliseconds * .001\n",
    "dictionaryLongitude = 4\n",
    "spikesPerChar=3\n",
    "firstLayerSize = 15\n",
    "\n",
    "dictionary = dictionary()\n",
    "spiketimes = dictionary.spikeTimes(dictionaryLongitude, spikeInterval, spikesPerChar, epochs)\n",
    "LIK = SpikeGeneratorGroup(firstLayerSize, spiketimes)\n",
    "\n",
    "N = 1000\n",
    "taum = 300 * ms\n",
    "Vt = -54 * mV\n",
    "Vr = -60 * mV\n",
    "El = -74 * mV\n",
    "taue = 100 * ms\n",
    "taui = 100 * ms\n",
    "\n",
    "eqs = Equations('''\n",
    "\t  dV/dt  = (-V+ge-gi)/taum : volt\n",
    "\t  dge/dt = -ge/taue        : volt\n",
    "\t  dgi/dt = -gi/taui        : volt\n",
    "\t  ''')\n",
    "ADDS = NeuronGroup(N=4, model=eqs,threshold=Vt, reset=Vr)\n",
    "\n",
    "excitatory = Connection(LIK, ADDS , 'ge',structure='dense',max_delay=30 * ms,\n",
    "                        delay=lambda i, j:(10 + 20 * rand()) * ms )\n",
    "Wexcitatory = np.random.uniform(0,15,[15,4]) * mV\n",
    "excitatory.connect(LIK,ADDS,Wexcitatory)\n",
    "Ap = 1 * mV\n",
    "Am = 1 * mV\n",
    "stdpE=ExponentialSTDP(excitatory,taue,taum,Ap,Am,wmax=15 * mV,interactions='all',update='additive')\n",
    "\n",
    "inhibitory = Connection(ADDS, ADDS , 'gi',delay=0*ms,structure='dense')\n",
    "#Connect adds layer via lateral inhibitory connections\n",
    "#the diagonal should be 0 to not auto-inhibate\n",
    "Winhibitory = np.random.uniform(0,200,[4,4]) * mV\n",
    "diagonal = np.diag_indices(Winhibitory.shape[0])\n",
    "Winhibitory[diagonal] = 0;\n",
    "\n",
    "inhibitory.connect(ADDS,ADDS,Winhibitory)\n",
    "stdpI=ExponentialSTDP(inhibitory,taue,taum,Ap,Am,wmax=4000 * mV,interactions='all',update='additive')\n",
    "\n",
    "spikeMonitor = SpikeMonitor(ADDS)\n",
    "Mv  = StateMonitor(ADDS, 'V', record=True)\n",
    "Mge = StateMonitor(ADDS, 'ge', record=True)\n",
    "Mgi = StateMonitor(ADDS, 'gi', record=True)\n",
    "\n",
    "\n",
    "#save weights!\n",
    "weights_excitatory = []\n",
    "weights_inhibitory = []\n",
    "@network_operation\n",
    "def record_weights():\n",
    "    weights_excitatory.append(array(excitatory.W))\n",
    "    weights_inhibitory.append(array(inhibitory.W))\n",
    "\n",
    "run(spikesPerChar * dictionaryLongitude * spikeInterval * epochs , report='text')"
   ]
  },
  {
   "cell_type": "markdown",
   "metadata": {},
   "source": [
    "We will now save all the important variables : neuron voltages, neuron spikes, and weights to a file called simulation.hdf5\n",
    "while saving the data, we will generate downsampled arrays, so when we plot we don't use that much RAM.\n",
    "if you are on ubuntu you can use:\n",
    "\n",
    "    hdfview simulation.hdf5\n",
    "to explore the dataset.\n",
    "we haven't implemented a method for downsampling sparse arrays yet, so spiketime isn't save , but it shouldn't be to hard to do that"
   ]
  },
  {
   "cell_type": "code",
   "execution_count": null,
   "metadata": {
    "collapsed": true
   },
   "outputs": [],
   "source": [
    "bp = brianPlotter('simulation.hdf5')\n",
    "\n",
    "bp.saveData('spikes', np.asarray(spikeMonitor.spikes), downsample=False);\n",
    "\n",
    "Mv =  np.transpose(Mv[:])\n",
    "Mge =  np.transpose(Mge[:])\n",
    "Mgi =  np.transpose(Mgi[:])\n",
    "voltage = np.concatenate((Mv[...,np.newaxis], Mge[...,np.newaxis]), axis=2)\n",
    "voltage = np.concatenate((voltage, Mgi[...,np.newaxis]), axis=2)\n",
    "bp.saveData('voltage',voltage)\n",
    "\n",
    "bp.saveData('excitatory', np.asarray(weights_excitatory))\n",
    "bp.saveData('inhibitory', np.asarray(weights_inhibitory))\n",
    "\n",
    "del bp #you have to delete the object so the file is closed"
   ]
  },
  {
   "cell_type": "markdown",
   "metadata": {},
   "source": [
    "If you want to see the analysis of this simulation click [here](analysis.ipynb).\n",
    "\n",
    "Remember to shutdown this notebook to release memory"
   ]
  }
 ],
 "metadata": {
  "kernelspec": {
   "display_name": "Python [conda env:snn]",
   "language": "python",
   "name": "conda-env-snn-py"
  },
  "language_info": {
   "codemirror_mode": {
    "name": "ipython",
    "version": 2
   },
   "file_extension": ".py",
   "mimetype": "text/x-python",
   "name": "python",
   "nbconvert_exporter": "python",
   "pygments_lexer": "ipython2",
   "version": "2.7.13"
  }
 },
 "nbformat": 4,
 "nbformat_minor": 1
}
